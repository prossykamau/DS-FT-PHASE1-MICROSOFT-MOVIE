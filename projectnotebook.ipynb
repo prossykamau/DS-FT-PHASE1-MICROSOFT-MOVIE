{
 "cells": [
  {
   "cell_type": "markdown",
   "metadata": {},
   "source": [
    "## Final Project"
   ]
  },
  {
   "cell_type": "markdown",
   "metadata": {},
   "source": [
    "\n",
    "Student Name : Prossy Nansubuga\n",
    "Student pace: REMOTE \n",
    "Scheduled project review date/time: \n",
    "Instructor name: ASHA DEEN\n"
   ]
  },
  {
   "attachments": {},
   "cell_type": "markdown",
   "metadata": {},
   "source": [
    "## Overview"
   ]
  },
  {
   "attachments": {},
   "cell_type": "markdown",
   "metadata": {},
   "source": [
    "This project aims to employ exploratory data analysis to extract valuable information for Microsoft, aiming to establish a new movie studio. \n",
    "By looking at information from IMDB and Box Office Mojo, am going to figure out which movie genres are most successful.\n",
    "The two determinants will be: \n",
    "1.How much money the movies make \n",
    "2.What people think of them. \n",
    "From this analysis, Microsoft should focus on genres like Sci-Fi, adventure, animation, and action because they make the most money."
   ]
  },
  {
   "attachments": {},
   "cell_type": "markdown",
   "metadata": {},
   "source": [
    "## Business Problem"
   ]
  },
  {
   "attachments": {},
   "cell_type": "markdown",
   "metadata": {},
   "source": [
    "Microsoft wants to enter the world of video content production by setting up its own movie studio. However, their lack of experience in this area presents a challenge. This analysis aims to explore trends in successful movies at the box office to help Microsoft's new movie studio head make informed decisions about which genres and themes to focus on.\n",
    "\n",
    "Questions :<br>\n",
    "Which genre of movies have the highest gross income?<br>\n",
    "Which genre of movies have a higher average rating?<br>\n",
    "What is the relationship between the average rating and the gross income?<br>\n",
    "What is the domestic gross and foreign gross income by start year of the movies?<br>"
   ]
  },
  {
   "attachments": {},
   "cell_type": "markdown",
   "metadata": {},
   "source": [
    "### Importing Modules and Relevant Datasets"
   ]
  },
  {
   "cell_type": "code",
   "execution_count": null,
   "metadata": {},
   "outputs": [],
   "source": [
    "# Importing necessary libraries\n",
    "import pandas as pd\n",
    "import matplotlib.pyplot as plt\n",
    "import seaborn as sns\n",
    "\n",
    "# Load the datasets\n",
    "\n",
    "imdb_title_basics = pd.read_csv('imdb.title.basics.csv.gz')\n",
    "imdb_title_ratings = pd.read_csv('imdb.title.ratings.csv.gz')\n",
    "\n",
    "# Box Office Mojo dataset\n",
    "bom_movie_gross = pd.read_csv('bom.movie_gross.csv.gz')\n",
    "\n"
   ]
  },
  {
   "cell_type": "code",
   "execution_count": null,
   "metadata": {},
   "outputs": [],
   "source": [
    "def df_inspect(df):\n",
    "    \"\"\"\n",
    "    Display the first 5 entries of the dataset, dataset information, \n",
    "    and total number of null values per column in a dataframe.\n",
    "    \n",
    "    Parameters:\n",
    "    df (DataFrame): The dataframe to be inspected.\n",
    "    \"\"\"\n",
    "    # Display the first 5 entries\n",
    "    print(\"First 5 entries:\")\n",
    "    display(df.head())\n",
    "    print(\"\\n\")\n",
    "    \n",
    "    # Display dataset information\n",
    "    print(\"Dataset Information:\")\n",
    "    display(df.info())\n",
    "    print(\"\\n\")\n",
    "    \n",
    "    # Display total number of null values per column\n",
    "    print(\"Total number of null values per column:\")\n",
    "    display(df.isnull().sum())\n",
    "\n"
   ]
  },
  {
   "attachments": {},
   "cell_type": "markdown",
   "metadata": {},
   "source": [
    "### Dataset understanding\n",
    "\n",
    "The first step is to take a glimpse at your data to understand what variables you’re working with andhow the values are structured based on the column they’re in.This will give a good idea of what data types you might be dealing with, what columns you need to perform transformations or cleaning, and other data you might be able to extract.,<br>\n",
    "<br>\n",
    "We will define a function `df_inpsect` to help inspect our datasets.<br>\n",
    "It returns : <br>\n",
    "- the first 5 entries of the dataset <br> \n",
    "- dataset information <br>\n",
    "- total number of null values per column in a dataframe <br> \n",
    "\n"
   ]
  },
  {
   "cell_type": "code",
   "execution_count": null,
   "metadata": {},
   "outputs": [],
   "source": [
    "\n",
    "# Inspect the IMDb title basics dataset\n",
    "df_inspect(imdb_title_basics)\n",
    "\n",
    "# Inspect the IMDb title ratings dataset\n",
    "df_inspect(imdb_title_ratings)\n",
    "\n",
    "# Inspect the Box Office Mojo movie gross dataset\n",
    "df_inspect(bom_movie_gross)\n"
   ]
  },
  {
   "cell_type": "code",
   "execution_count": null,
   "metadata": {},
   "outputs": [],
   "source": [
    "# Display the first 5 entries of the dataset\n",
    "# Display the first 5 entries of the IMDb title basics dataset\n",
    "print(\"First 5 entries of IMDb title basics dataset:\")\n",
    "print(imdb_title_basics.head())\n",
    "\n",
    "# Display the first 5 entries of the IMDb title ratings dataset\n",
    "print(\"\\nFirst 5 entries of IMDb title ratings dataset:\")\n",
    "print(imdb_title_ratings.head())\n",
    "\n",
    "# Display the first 5 entries of the Box Office Mojo movie gross dataset\n",
    "print(\"\\nFirst 5 entries of Box Office Mojo movie gross dataset:\")\n",
    "print(bom_movie_gross.head())\n"
   ]
  },
  {
   "attachments": {},
   "cell_type": "markdown",
   "metadata": {},
   "source": [
    "#### Movie_gross dataframe"
   ]
  },
  {
   "attachments": {},
   "cell_type": "markdown",
   "metadata": {},
   "source": [
    "From the above output, DataFrame `bom_movie` contains 3387 rows and 5 columns with the following information about movies:\n",
    "> - title : The title of the movie <br>\n",
    "> - studio : The studio that produced the movie<br>\n",
    "> - domestic_gross : The domestic gross revenue of the movie in <br>\n",
    "> - foreign_gross : The foreign gross revenue of the movie in dollars<br>\n",
    "> - year : The year in which the movie was released<br>"
   ]
  },
  {
   "cell_type": "code",
   "execution_count": null,
   "metadata": {},
   "outputs": [],
   "source": [
    "df_inspect(imdb_title_basics)"
   ]
  },
  {
   "attachments": {},
   "cell_type": "markdown",
   "metadata": {},
   "source": [
    "From the above output, DataFrame `imdb_title_basics` contains 146144 rows and 6 columns.<br>\n",
    "<br>\n",
    " [Imdb site](https://developer.imdb.com/non-commercial-datasets/) also reveals additional info about the title of each columns:<br>\n",
    "\n",
    "> - tconst (string) - alphanumeric unique identifier of the title<br>\n",
    "> - primaryTitle (string) – the more popular title / the title used by the filmmakers on promotional materials at the point of release<br>\n",
    "> - originalTitle (string) - original title, in the original language<br>\n",
    "> - startYear (YYYY) – represents the release year of a title. In the case of TV Series, it is the series start year<br>\n",
    "> - runtimeMinutes – primary runtime of the title(duration), in minutes<br>\n",
    "> - genres (string array) – includes up to three genres associated with the title<br>"
   ]
  },
  {
   "cell_type": "code",
   "execution_count": null,
   "metadata": {},
   "outputs": [],
   "source": [
    "\n",
    "\n",
    "# Call the df_inspect function with the title_ratings DataFrame\n",
    "df_inspect(imdb_title_ratings)\n"
   ]
  },
  {
   "attachments": {},
   "cell_type": "markdown",
   "metadata": {},
   "source": [
    "From the above output, DataFrame `imdb_title_basics` contains 73856 rows and 3 columns:<br>\n",
    "> - tconst (string) - alphanumeric unique identifier of the title\n",
    "> - averageRating – weighted average of all the individual user ratings\n",
    "> - numVotes - number of votes the title has received "
   ]
  },
  {
   "attachments": {},
   "cell_type": "markdown",
   "metadata": {},
   "source": [
    "### Data Cleaning\n",
    "\n",
    "The next step is to clean our data so that we can deal with quality data to enhance analysis.\n",
    "Steps:\n",
    " - Check for missing values\n",
    " - Check for duplicate values\n",
    " - Amend data types \n",
    " - Fix error values"
   ]
  },
  {
   "attachments": {},
   "cell_type": "markdown",
   "metadata": {},
   "source": [
    "#### Check for missing values"
   ]
  },
  {
   "attachments": {},
   "cell_type": "markdown",
   "metadata": {},
   "source": [
    "We create a simple loop to create a list of the entries with missing values for each column of a dataset."
   ]
  },
  {
   "cell_type": "code",
   "execution_count": null,
   "metadata": {},
   "outputs": [],
   "source": [
    "# Check for missing values in the IMDb title basics dataset\n",
    "missing_values_imdb_title_basics = imdb_title_basics.isnull().sum()\n",
    "print(\"Missing values in IMDb title basics dataset:\")\n",
    "print(missing_values_imdb_title_basics)\n",
    "\n",
    "# Check for missing values in the IMDb title ratings dataset\n",
    "missing_values_imdb_title_ratings = imdb_title_ratings.isnull().sum()\n",
    "print(\"\\nMissing values in IMDb title ratings dataset:\")\n",
    "print(missing_values_imdb_title_ratings)\n",
    "\n",
    "# Check for missing values in the Box Office Mojo movie gross dataset\n",
    "missing_values_bom_movie_gross = bom_movie_gross.isnull().sum()\n",
    "print(\"\\nMissing values in Box Office Mojo movie gross dataset:\")\n",
    "print(missing_values_bom_movie_gross)\n"
   ]
  },
  {
   "attachments": {},
   "cell_type": "markdown",
   "metadata": {},
   "source": [
    "All datasets contain missing values except the `imdb_rating` . This means we will deal with the missing values of the rest datasets."
   ]
  },
  {
   "attachments": {},
   "cell_type": "markdown",
   "metadata": {},
   "source": [
    "For `Movie_gross` dataset , we can conclude movie entries with null values did not have domestic gross neither foreign income for that year, hence replacing the value with 0. This occurs for `domestic_gross` and `foreign_gross` .\n",
    "\n",
    "Studio column contains 5 missing values, we replace this with `None`"
   ]
  },
  {
   "cell_type": "code",
   "execution_count": null,
   "metadata": {},
   "outputs": [],
   "source": [
    "# Replace missing values in 'foreign_gross' and 'domestic_gross' columns with 0\n",
    "bom_movie_gross['foreign_gross'].fillna(0, inplace=True)\n",
    "bom_movie_gross['domestic_gross'].fillna(0, inplace=True)\n",
    "\n",
    "# Verify the changes\n",
    "print(\"Missing values after replacement:\")\n",
    "print(bom_movie_gross[['foreign_gross', 'domestic_gross']].isnull().sum())\n"
   ]
  },
  {
   "attachments": {},
   "cell_type": "markdown",
   "metadata": {},
   "source": [
    "Lastly, for `imdb_title_df` , we have  missing values in some columns.<br>\n",
    " - The values in `original_title` to be replaced with `primary_title`. \n",
    "- `runtime_minutes` are vital for the analysis , the missing values to be replaced with median value of the column.\n",
    "- Missing values in the genres column will be dropped; genre of each entry is very crucial for analysis ."
   ]
  },
  {
   "cell_type": "code",
   "execution_count": null,
   "metadata": {},
   "outputs": [],
   "source": [
    "# Replace missing values in 'original_title' with values from 'primary_title'\n",
    "imdb_title_basics['original_title'].fillna(imdb_title_basics['primary_title'], inplace=True)\n",
    "\n",
    "# Verify the changes\n",
    "print(\"Missing values after replacement:\")\n",
    "print(imdb_title_basics['original_title'].isnull().sum())\n"
   ]
  },
  {
   "cell_type": "code",
   "execution_count": null,
   "metadata": {},
   "outputs": [],
   "source": [
    "# replace  missing values of the runtime_minutes with the median value\n",
    "imdb_title_basics['runtime_minutes'] = imdb_title_basics['runtime_minutes'].fillna(imdb_title_basics['runtime_minutes'].median())\n",
    "\n",
    "#drop the missing values in the genres column\n",
    "imdb_title_basics = imdb_title_basics.dropna(subset=['genres'])"
   ]
  },
  {
   "cell_type": "code",
   "execution_count": null,
   "metadata": {},
   "outputs": [],
   "source": []
  },
  {
   "attachments": {},
   "cell_type": "markdown",
   "metadata": {},
   "source": [
    "###  Check for duplicate values"
   ]
  },
  {
   "attachments": {},
   "cell_type": "markdown",
   "metadata": {},
   "source": [
    "We'll use the below code to filter out duplicate for each dataset"
   ]
  },
  {
   "cell_type": "code",
   "execution_count": null,
   "metadata": {},
   "outputs": [],
   "source": [
    "# Calculate the median value of the 'runtime_minutes' column\n",
    "median_runtime = imdb_title_basics['runtime_minutes'].median()\n",
    "\n",
    "# Replace missing values in 'runtime_minutes' with the median value\n",
    "imdb_title_basics['runtime_minutes'].fillna(median_runtime, inplace=True)\n",
    "\n",
    "# Verify the changes\n",
    "print(\"Missing values after replacement:\")\n",
    "print(imdb_title_basics['runtime_minutes'].isnull().sum())\n"
   ]
  },
  {
   "cell_type": "code",
   "execution_count": null,
   "metadata": {},
   "outputs": [],
   "source": [
    "\n",
    "\n",
    "\n",
    "# Check duplicate records for imdb_ratings dataframe\n",
    "duplicate_records = imdb_title_ratings.duplicated()\n",
    "\n",
    "# Count the number of duplicate records\n",
    "num_duplicates = duplicate_records.sum()\n",
    "\n",
    "# Display the result\n",
    "if num_duplicates == 0:\n",
    "    print(\"No duplicate records found in the IMDb title ratings dataset.\")\n",
    "else:\n",
    "    print(f\"Number of duplicate records found: {num_duplicates}\")\n",
    "    print(\"Duplicate records:\")\n",
    "    print(imdb_ratings[duplicate_records].head())  # Displaying the first few duplicate records\n",
    "\n"
   ]
  },
  {
   "attachments": {},
   "cell_type": "markdown",
   "metadata": {},
   "source": [
    "From the above output,Imdb_ratings doesn't have any duplicates because `tconst` is a unique identifier value."
   ]
  },
  {
   "cell_type": "code",
   "execution_count": null,
   "metadata": {},
   "outputs": [],
   "source": [
    "#display all duplicate records for movie gross 'title' column\n",
    "movie_gross[movie_gross.duplicated(keep=False, subset='title')].sort_values(by='title')"
   ]
  },
  {
   "attachments": {},
   "cell_type": "markdown",
   "metadata": {},
   "source": [
    "By further analysing this entries, each stands out to be a different movie and not duplicate values. Why?<br> Different year, studios and gross amount."
   ]
  },
  {
   "cell_type": "code",
   "execution_count": null,
   "metadata": {},
   "outputs": [],
   "source": [
    "#display all duplicate records for imdb_title_basics dataframe using 'primary_title','start_year' and 'genres' columns\n",
    "imdb_title_basics[imdb_title_basics.duplicated(keep=False, subset=['primary_title','start_year'])].sort_values(by=['primary_title','start_year'])[25:50]"
   ]
  },
  {
   "attachments": {},
   "cell_type": "markdown",
   "metadata": {},
   "source": [
    "`imdb_title_basics` has duplicate records based on the `primary_title` and the `start_year`. Some of the duplicate records have slightly different genres while others have missing values in either the runtime_minutes or genre columns. <br>\n",
    "The duplicate records will be dropped, while keeping the entry with the least number of missing values."
   ]
  },
  {
   "cell_type": "code",
   "execution_count": null,
   "metadata": {},
   "outputs": [],
   "source": [
    "#assign a different variable name to a copy of the imdb_title_basics dataframe\n",
    "imdb_title_df = imdb_title_basics.copy()\n",
    "\n",
    "#assign a new column, 'missing', to the sum of missing values in each row sort the dataframe by values of the 'primary_title' &'missing'\n",
    "imdb_title_df = imdb_title_df.assign(missing=imdb_title_df.isnull().sum(axis=1)).sort_values(by=['primary_title', 'missing'], ascending=True)\n",
    "\n",
    "# preview of duplicated records\n",
    "imdb_title_df[imdb_title_df.duplicated(keep=False, subset=['primary_title','start_year'])][:20]"
   ]
  },
  {
   "attachments": {},
   "cell_type": "markdown",
   "metadata": {},
   "source": [
    "Then, we drop duplicates to obatin values entries with least missing values; below code :"
   ]
  },
  {
   "cell_type": "code",
   "execution_count": null,
   "metadata": {},
   "outputs": [],
   "source": [
    "imdb_title_df = imdb_title_df.drop_duplicates(keep='first', subset=['primary_title','start_year']).drop(columns='missing')"
   ]
  },
  {
   "attachments": {},
   "cell_type": "markdown",
   "metadata": {},
   "source": [
    "Above, if two rows have the same '`primary_title`' and '`start_year`', the keep='first' argument ensures that only the first occurrence of the duplicate is kept, and the subsequent duplicates are dropped. After removing duplicates, we drop the column named 'missing' from the DataFrame beacause it becomes redundant after removing duplicates"
   ]
  },
  {
   "cell_type": "markdown",
   "metadata": {},
   "source": [
    "To check for any more duplicates:"
   ]
  },
  {
   "cell_type": "code",
   "execution_count": null,
   "metadata": {},
   "outputs": [],
   "source": [
    "#recheck for duplicates\n",
    "imdb_title_df[imdb_title_df.duplicated(keep=False, subset=['primary_title','start_year'])].sort_values(by=['primary_title','start_year'])"
   ]
  },
  {
   "attachments": {},
   "cell_type": "markdown",
   "metadata": {},
   "source": [
    "### Amend data types"
   ]
  },
  {
   "attachments": {},
   "cell_type": "markdown",
   "metadata": {},
   "source": [
    "Each column should have correspondingly valid data types so that analysis can occur without any hitches. The function `df_inspect` contains a method `.info` that provides information for each dataset passed through. <br>\n",
    "\n",
    "We can find the dataype for each column by calling `.dtypes` . As below :"
   ]
  },
  {
   "cell_type": "code",
   "execution_count": null,
   "metadata": {},
   "outputs": [],
   "source": [
    "#check the data type of each column \n",
    "print(f'movie gross data types: \\n {movie_gross.dtypes} \\n ---')\n",
    "print(f'\\n imdb title  data types: \\n {imdb_title_df.dtypes} \\n ---')\n",
    "print(f'\\n imdb ratings data types: \\n {imdb_ratings.dtypes} \\n ---')"
   ]
  },
  {
   "attachments": {},
   "cell_type": "markdown",
   "metadata": {},
   "source": [
    "Notice that column foreign_gross has object values instead of float values to represent number values. So we convert to float values :\n"
   ]
  },
  {
   "cell_type": "code",
   "execution_count": null,
   "metadata": {},
   "outputs": [],
   "source": [
    "import pandas as pd\n",
    "\n",
    "# Load the dataset into a DataFrame named movie_gross\n",
    "bom_movie_gross = pd.read_csv('bom.movie_gross.csv.gz')\n",
    "\n",
    "# Convert the data type of the foreign_gross column from object to float\n",
    "bom_movie_gross['foreign_gross'] = bom_movie_gross['foreign_gross'].str.replace(\",\",\"\").astype(float)\n"
   ]
  },
  {
   "cell_type": "code",
   "execution_count": null,
   "metadata": {},
   "outputs": [],
   "source": [
    "# Check for duplicate records\n",
    "duplicate_records = bom_movie_gross.duplicated()\n",
    "\n",
    "# Count the number of duplicate records\n",
    "num_duplicates = duplicate_records.sum()\n",
    "\n",
    "# Display the result\n",
    "if num_duplicates == 0:\n",
    "    print(\"No duplicate records found in the BOM movie gross dataset.\")\n",
    "else:\n",
    "    print(f\"Number of duplicate records found: {num_duplicates}\")\n",
    "    print(\"Duplicate records:\")\n",
    "    print(bom_movie_gross[duplicate_records])\n"
   ]
  },
  {
   "cell_type": "code",
   "execution_count": null,
   "metadata": {},
   "outputs": [],
   "source": [
    "import pandas as pd\n",
    "\n",
    "try:\n",
    "    # Load the dataset into a DataFrame named bom_movie_gross\n",
    "    bom_movie_gross = pd.read_csv('bom.movie_gross.csv.gz')\n",
    "\n",
    "    # Check if 'foreign_gross' column exists in the DataFrame\n",
    "    if 'foreign_gross' in bom_movie_gross.columns:\n",
    "        # Convert the data type of the foreign_gross column from object to float\n",
    "        bom_movie_gross['foreign_gross'] = bom_movie_gross['foreign_gross'].str.replace(\",\",\"\").astype(float)\n",
    "        print(\"Conversion successful!\")\n",
    "    else:\n",
    "        print(\"Error: 'foreign_gross' column not found in the DataFrame.\")\n",
    "except Exception as e:\n",
    "    print(\"An error occurred:\", e)\n"
   ]
  },
  {
   "attachments": {},
   "cell_type": "markdown",
   "metadata": {},
   "source": [
    "We call out the type of `foreign_gross` to confirm :"
   ]
  },
  {
   "cell_type": "code",
   "execution_count": null,
   "metadata": {},
   "outputs": [],
   "source": [
    "bom_movie_gross['foreign_gross'].dtype"
   ]
  },
  {
   "attachments": {},
   "cell_type": "markdown",
   "metadata": {},
   "source": [
    "### Amend error values"
   ]
  },
  {
   "attachments": {},
   "cell_type": "markdown",
   "metadata": {},
   "source": [
    "In the box office dataset, we notice there are movie that have pre-planned release year(under `start_year` column). So, we align data upto year of current record(2022):"
   ]
  },
  {
   "cell_type": "code",
   "execution_count": null,
   "metadata": {},
   "outputs": [],
   "source": [
    "#check for years greater than 2022 in imdb_title_df\n",
    "imdb_title_df[imdb_title_df['start_year'] > 2022]"
   ]
  },
  {
   "cell_type": "code",
   "execution_count": null,
   "metadata": {},
   "outputs": [],
   "source": [
    "# drop records with start_year more than 2022\n",
    "imdb_title_df = imdb_title_df[imdb_title_df['start_year'] <= 2022]"
   ]
  },
  {
   "attachments": {},
   "cell_type": "markdown",
   "metadata": {},
   "source": [
    "Then we check to confirm there's no records with start year beyond 2022"
   ]
  },
  {
   "cell_type": "code",
   "execution_count": null,
   "metadata": {},
   "outputs": [],
   "source": [
    "#recheck\n",
    "imdb_title_df[imdb_title_df['start_year'] > 2022]"
   ]
  },
  {
   "cell_type": "code",
   "execution_count": null,
   "metadata": {},
   "outputs": [],
   "source": [
    "import pandas as pd\n",
    "\n",
    "# Load the dataset into a DataFrame named bom_movie_gross\n",
    "bom_movie_gross = pd.read_csv('bom.movie_gross.csv.gz')\n",
    "\n",
    "# Filter the DataFrame to include only years greater than 2022\n",
    "years_greater_than_2022 = bom_movie_gross[bom_movie_gross['year'] > 2022]\n",
    "\n",
    "# Display the filtered DataFrame\n",
    "print(\"Movies with years greater than 2022:\")\n",
    "print(years_greater_than_2022)\n",
    "\n"
   ]
  },
  {
   "attachments": {},
   "cell_type": "markdown",
   "metadata": {},
   "source": [
    "And we are done with cleaning the data."
   ]
  },
  {
   "attachments": {},
   "cell_type": "markdown",
   "metadata": {},
   "source": [
    "## Merging of dataframes"
   ]
  },
  {
   "attachments": {},
   "cell_type": "markdown",
   "metadata": {},
   "source": [
    "I merge the `imdb_title_df` with `imdb_rating` to add more entries and give details within a row. The column `tconst` is our common column, therefore we use it to merge."
   ]
  },
  {
   "cell_type": "code",
   "execution_count": null,
   "metadata": {},
   "outputs": [],
   "source": [
    "import pandas as pd\n",
    "\n",
    "# Assuming imdb_title_df and imdb_ratings are supposed to be loaded DataFrames\n",
    "\n",
    "# Print the values of imdb_title_df and imdb_ratings to check if they are None\n",
    "print(\"Value of imdb_title_df:\", imdb_title_df)\n",
    "print(\"Value of imdb_ratings:\", imdb_ratings)\n",
    "\n",
    "# Perform inner join to merge the DataFrames if they are not None\n",
    "if imdb_title_df is not None and imdb_ratings is not None:\n",
    "    # Perform inner join to merge the DataFrames\n",
    "    joined_imdb_df = imdb_title_df.merge(imdb_ratings, on='tconst', how='inner')\n",
    "\n",
    "    # Display the first 10 rows of the merged DataFrame\n",
    "    print(\"Merged DataFrame:\")\n",
    "    print(joined_imdb_df.head(10))\n",
    "else:\n",
    "    print(\"Error: One or both DataFrames is None.\")\n"
   ]
  },
  {
   "cell_type": "code",
   "execution_count": null,
   "metadata": {},
   "outputs": [],
   "source": [
    "#check the column names of both DataFrames to identify the correct column for merging\n",
    "print(\"bom_movie_gross columns:\", bom_movie_gross.columns)\n",
    "print(\"imdb_title_basics columns:\", imdb_title_basics.columns)\n"
   ]
  },
  {
   "attachments": {},
   "cell_type": "markdown",
   "metadata": {},
   "source": [
    "### Total Gross Income\n",
    "\n",
    "From looking at the datasets, it is deduced that the total gross  income column can be added to the dataframe. The total gross income can be calculated by finding the sum of the domestic gross income and the foreign gross income for each movie. <br>\n",
    "\n",
    "For movies without either of foreign or domestic gross, the total gross is null."
   ]
  },
  {
   "cell_type": "code",
   "execution_count": null,
   "metadata": {},
   "outputs": [],
   "source": [
    "import pandas as pd\n",
    "\n",
    "# Load the dataset\n",
    "bom_movie_gross = pd.read_csv('bom.movie_gross.csv.gz')\n",
    "\n",
    "# Convert 'domestic_gross' and 'foreign_gross' columns to numeric, coercing errors to NaN\n",
    "bom_movie_gross['domestic_gross'] = pd.to_numeric(bom_movie_gross['domestic_gross'], errors='coerce')\n",
    "bom_movie_gross['foreign_gross'] = pd.to_numeric(bom_movie_gross['foreign_gross'], errors='coerce')\n",
    "\n",
    "# Calculate total gross income\n",
    "bom_movie_gross['total_gross_income'] = bom_movie_gross['domestic_gross'].fillna(0) + bom_movie_gross['foreign_gross'].fillna(0)\n",
    "\n",
    "# Display the DataFrame with the new column\n",
    "print(bom_movie_gross.head())\n"
   ]
  },
  {
   "cell_type": "markdown",
   "metadata": {},
   "source": [
    "### Separate the genre categories"
   ]
  },
  {
   "cell_type": "code",
   "execution_count": null,
   "metadata": {},
   "outputs": [],
   "source": [
    "#check the column names to identify the correct column containing genre information\n",
    "print(imdb_title_basics.columns)\n"
   ]
  },
  {
   "cell_type": "code",
   "execution_count": null,
   "metadata": {},
   "outputs": [],
   "source": [
    "import pandas as pd\n",
    "\n",
    "# Load the dataset and make a copy\n",
    "movies = imdb_title_basics.copy()\n",
    "\n",
    "# Split the genre categories and explode the DataFrame\n",
    "movies['genres'] = movies['genres'].str.split(',')\n",
    "movies = movies.explode('genres')\n",
    "\n",
    "# Display the DataFrame with separated genre categories\n",
    "print(movies.head())\n"
   ]
  },
  {
   "attachments": {},
   "cell_type": "markdown",
   "metadata": {},
   "source": [
    "The genre column has multiple categories in a single row. The categories can be separated so that there is one category in each row. <br>\n",
    "Method .`explode` is used to transform each element of a list-like to a row, replicating index values."
   ]
  },
  {
   "cell_type": "code",
   "execution_count": null,
   "metadata": {},
   "outputs": [],
   "source": [
    "import pandas as pd\n",
    "\n",
    "# Load the DataFrame (replace 'filename.csv' with the actual file path)\n",
    "movies_df = pd.read_csv('imdb.title.basics.csv.gz')\n"
   ]
  },
  {
   "cell_type": "code",
   "execution_count": null,
   "metadata": {},
   "outputs": [],
   "source": [
    "# Make a copy of the DataFrame\n",
    "movies = movies_df.copy()\n",
    "\n",
    "# Split the genre categories into a list, around the comma separator\n",
    "movies['genres'] = movies['genres'].str.split(',')\n",
    "\n",
    "# Transform each element in the genres list to a row\n",
    "movies = movies.explode('genres')\n",
    "\n",
    "# Display the DataFrame with separated genre categories\n",
    "print(movies.head())\n"
   ]
  },
  {
   "cell_type": "code",
   "execution_count": null,
   "metadata": {},
   "outputs": [],
   "source": [
    "#preview the first 10 rows of the movies dataframe \n",
    "movies.head(10)"
   ]
  },
  {
   "cell_type": "code",
   "execution_count": null,
   "metadata": {},
   "outputs": [],
   "source": [
    "#reset index\n",
    "movies = movies.reset_index(drop=True)"
   ]
  },
  {
   "cell_type": "code",
   "execution_count": null,
   "metadata": {},
   "outputs": [],
   "source": [
    "movies.head(10)"
   ]
  },
  {
   "cell_type": "code",
   "execution_count": null,
   "metadata": {},
   "outputs": [],
   "source": [
    "#value counts of the genres column in the new dataset after separating the genres\n",
    "movies['genres'].value_counts()"
   ]
  },
  {
   "cell_type": "code",
   "execution_count": null,
   "metadata": {},
   "outputs": [],
   "source": [
    "#value counts of the genres column in the dataset before separating the genres\n",
    "movies_df['genres'].value_counts()"
   ]
  },
  {
   "cell_type": "markdown",
   "metadata": {},
   "source": [
    "## Data Visualization"
   ]
  },
  {
   "cell_type": "markdown",
   "metadata": {},
   "source": [
    "### Number of movies per genre"
   ]
  },
  {
   "attachments": {},
   "cell_type": "markdown",
   "metadata": {},
   "source": [
    "Here, we plot number of movies against genre."
   ]
  },
  {
   "cell_type": "code",
   "execution_count": null,
   "metadata": {},
   "outputs": [],
   "source": [
    "#countplot showing the number of movies per genre\n",
    "import pandas as pd\n",
    "\n",
    "# Count the number of movies per genre\n",
    "genre_counts = movies['genres'].value_counts()\n",
    "\n",
    "# Plotting\n",
    "plt.figure(figsize=(10, 6))\n",
    "genre_counts.plot(kind='bar')\n",
    "plt.title('Number of Movies per Genre')\n",
    "plt.xlabel('Genre')\n",
    "plt.ylabel('Number of Movies')\n",
    "plt.xticks(rotation=45, ha='right')\n",
    "plt.tight_layout()\n",
    "plt.show()\n"
   ]
  },
  {
   "attachments": {},
   "cell_type": "markdown",
   "metadata": {},
   "source": [
    "The dataset shows that Documentary,Drama, Comedy, and Thriller are the most prevalent genres among the released movies. Documentary and Drama, in particular, stand out as the largest film genres due to their broad and inclusive nature, often leading to movies being classified under multiple genres.<br>\n",
    "\n",
    "On the other hand, the genres with the fewest movies are Game-show,Short,Adult,Talkshow and Reality-TV. These genres are more specialized, focusing on specific themes or storylines in the movies."
   ]
  },
  {
   "cell_type": "markdown",
   "metadata": {},
   "source": [
    "### Distribution of the movies' average rating"
   ]
  },
  {
   "cell_type": "code",
   "execution_count": null,
   "metadata": {},
   "outputs": [],
   "source": [
    "import pandas as pd\n",
    "\n",
    "# Load the dataset\n",
    "imdb_title_ratings = pd.read_csv('imdb.title.ratings.csv.gz')\n",
    "\n",
    "\n"
   ]
  },
  {
   "cell_type": "code",
   "execution_count": null,
   "metadata": {},
   "outputs": [],
   "source": [
    "#histogram showing the average rating distribution\n",
    "import matplotlib.pyplot as plt\n",
    "\n",
    "\n",
    "# Plotting\n",
    "plt.figure(figsize=(10, 8))\n",
    "plt.hist(imdb_title_ratings['averagerating'], bins=20, color='skyblue', edgecolor='black')\n",
    "plt.title('Distribution of Movies\\' Average Ratings')\n",
    "plt.xlabel('Average Rating')\n",
    "plt.ylabel('Frequency')\n",
    "plt.grid(True)\n",
    "plt.show()\n",
    "\n"
   ]
  },
  {
   "attachments": {},
   "cell_type": "markdown",
   "metadata": {},
   "source": [
    "The majority of movies have an approximate average rating of 6, and the overall distribution tends to be negatively skewed. A small number of movies receive ratings below 4.<br>\n",
    " After comprehending this rating distribution, it becomes crucial to examine the average ratings for each genre."
   ]
  },
  {
   "attachments": {},
   "cell_type": "markdown",
   "metadata": {},
   "source": [
    "### Genre of movies with the highest average rating"
   ]
  },
  {
   "cell_type": "code",
   "execution_count": null,
   "metadata": {},
   "outputs": [],
   "source": [
    "import pandas as pd\n",
    "\n",
    "# Merge the DataFrames containing movie ratings and genre information\n",
    "merged_df = pd.merge(imdb_title_ratings, imdb_title_basics, on='tconst', how='inner')\n",
    "\n",
    "# Calculate the average rating for each genre\n",
    "genre_avg_rating = merged_df.groupby('genres')['averagerating'].mean().reset_index()\n",
    "\n",
    "# Find the genre with the highest average rating\n",
    "highest_avg_rating_genre = genre_avg_rating.loc[genre_avg_rating['averagerating'].idxmax()]\n",
    "\n",
    "print(\"Genre with the highest average rating:\", highest_avg_rating_genre['genres'])\n",
    "print(\"Average rating:\", highest_avg_rating_genre['averagerating'])\n"
   ]
  },
  {
   "cell_type": "code",
   "execution_count": null,
   "metadata": {},
   "outputs": [],
   "source": []
  },
  {
   "cell_type": "code",
   "execution_count": null,
   "metadata": {},
   "outputs": [],
   "source": [
    "import pandas as pd\n",
    "import matplotlib.pyplot as plt\n",
    "\n",
    "# Merge the DataFrames containing movie ratings and genre information\n",
    "merged_df = pd.merge(imdb_title_ratings, imdb_title_basics, on='tconst', how='inner')\n",
    "\n",
    "# Calculate the average rating for each genre\n",
    "genre_avg_rating = merged_df.groupby('genres')['averagerating'].mean().reset_index()\n",
    "\n",
    "# Sorting the genres by average rating and selecting the top 50\n",
    "top_genres = genre_avg_rating.nlargest(50, 'averagerating')\n",
    "\n",
    "# Plotting\n",
    "plt.figure(figsize=(10, 8))\n",
    "plt.barh(top_genres['genres'], top_genres['averagerating'], color='skyblue')\n",
    "plt.title('Top 50 Genres by Average Rating')\n",
    "plt.xlabel('Average Rating')\n",
    "plt.ylabel('Genre')\n",
    "plt.gca().invert_yaxis()  # Invert y-axis to have the highest rated genre at the top\n",
    "plt.grid(axis='x')  # Add grid lines for better visualization\n",
    "plt.show()\n",
    "\n",
    "\n"
   ]
  },
  {
   "attachments": {},
   "cell_type": "markdown",
   "metadata": {},
   "source": [
    "The bars representing the average ratings show minimal variation in height.<br>\n",
    "Comedy,Documentary, and Fantasy have the highest average ratings, while Biography,Documentary.War genres have the lowest average ratings."
   ]
  },
  {
   "attachments": {},
   "cell_type": "markdown",
   "metadata": {},
   "source": [
    "### Total gross income by genre "
   ]
  },
  {
   "cell_type": "code",
   "execution_count": null,
   "metadata": {},
   "outputs": [],
   "source": [
    "#bar graph showing the total gross income by genre\n",
    "\n",
    "import pandas as pd\n",
    "import matplotlib.pyplot as plt\n",
    "\n",
    "# Assuming you have already loaded and merged the necessary datasets\n",
    "\n",
    "# Merge the DataFrames containing movie ratings and genre information\n",
    "merged_df = pd.merge(imdb_title_ratings, imdb_title_basics, on='tconst', how='inner')\n",
    "\n",
    "# Merge with bom_movie_gross to get gross income\n",
    "merged_df = pd.merge(merged_df, bom_movie_gross, left_on='primary_title', right_on='title', how='inner')\n",
    "\n",
    "# Calculate the total gross income for each genre\n",
    "genre_total_gross = merged_df.groupby('genres')['total_gross_income'].sum().reset_index()\n",
    "\n",
    "# Sorting the genres by total gross income and selecting the top 50\n",
    "top_50_genres = genre_total_gross.nlargest(50, 'total_gross_income')\n",
    "\n",
    "# Plotting\n",
    "plt.figure(figsize=(12, 6))\n",
    "plt.bar(top_50_genres['genres'], top_50_genres['total_gross_income'], color='skyblue')\n",
    "plt.title('Total Gross Income by Genre (Top 50)')\n",
    "plt.xlabel('Genre')\n",
    "plt.ylabel('Total Gross Income')\n",
    "plt.xticks(rotation=90)\n",
    "plt.grid(axis='y')\n",
    "plt.tight_layout()\n",
    "plt.show()\n",
    "\n"
   ]
  },
  {
   "cell_type": "code",
   "execution_count": null,
   "metadata": {},
   "outputs": [],
   "source": []
  },
  {
   "attachments": {},
   "cell_type": "markdown",
   "metadata": {},
   "source": [
    "Box office mojo primarily monitors theatrical box office earnings, excluding other revenue sources like home entertainment sales, rentals, television rights, and product placement fees.<br>\n",
    "\n",
    "The genres that generate the highest income are Sci-Fi, adventure, animation, and action, whereas the genres with the lowest income are Action,Mystery and Thriller.<br>\n",
    "\n",
    "To explore the potential relationship between the average rating and gross income, various factors will be examined as they can influence a movie's overall earnings.<br>"
   ]
  },
  {
   "attachments": {},
   "cell_type": "markdown",
   "metadata": {},
   "source": [
    "### Relationship between the average rating and the gross income"
   ]
  },
  {
   "cell_type": "code",
   "execution_count": null,
   "metadata": {},
   "outputs": [],
   "source": [
    "import pandas as pd\n",
    "import matplotlib.pyplot as plt\n",
    "\n",
    "# Merge the DataFrames containing movie ratings and genre information\n",
    "merged_df = pd.merge(imdb_title_ratings, imdb_title_basics, on='tconst', how='inner')\n",
    "\n",
    "# Merge with bom_movie_gross to get gross income\n",
    "merged_df = pd.merge(merged_df, bom_movie_gross, left_on='primary_title', right_on='title', how='inner')\n",
    "\n",
    "# Plotting\n",
    "plt.figure(figsize=(10, 6))\n",
    "plt.scatter(merged_df['averagerating'], merged_df['total_gross_income'], color='skyblue', alpha=0.5)\n",
    "plt.title('Relationship between Average Rating and Gross Income')\n",
    "plt.xlabel('Average Rating')\n",
    "plt.ylabel('Total Gross Income')\n",
    "plt.grid(True)\n",
    "plt.tight_layout()\n",
    "plt.show()\n"
   ]
  },
  {
   "attachments": {},
   "cell_type": "markdown",
   "metadata": {},
   "source": [
    "\n",
    "The relationship between the total gross income and the average rating is not evident. However, it appears that movies with a low average rating, specifically those below 4, tend to have a correspondingly low total gross income."
   ]
  },
  {
   "attachments": {},
   "cell_type": "markdown",
   "metadata": {},
   "source": [
    "### Gross income by start year"
   ]
  },
  {
   "cell_type": "code",
   "execution_count": null,
   "metadata": {
    "scrolled": true
   },
   "outputs": [],
   "source": [
    "import pandas as pd\n",
    "import matplotlib.pyplot as plt\n",
    "\n",
    "# Assuming you have already loaded and merged the necessary datasets\n",
    "\n",
    "# Merge the DataFrames containing movie ratings and genre information\n",
    "merged_df = pd.merge(imdb_title_ratings, imdb_title_basics, on='tconst', how='inner')\n",
    "\n",
    "# Merge with bom_movie_gross to get gross income\n",
    "merged_df = pd.merge(merged_df, bom_movie_gross, left_on='primary_title', right_on='title', how='inner')\n",
    "\n",
    "# Group by start year and calculate the total domestic gross and foreign gross income\n",
    "gross_income_by_year = merged_df.groupby('start_year')[['domestic_gross', 'foreign_gross']].sum()\n",
    "\n",
    "# Plotting\n",
    "plt.figure(figsize=(10, 6))\n",
    "plt.plot(gross_income_by_year.index, gross_income_by_year['domestic_gross'], marker='o', label='Domestic Gross')\n",
    "plt.plot(gross_income_by_year.index, gross_income_by_year['foreign_gross'], marker='o', label='Foreign Gross')\n",
    "plt.title('Gross Income by Start Year')\n",
    "plt.xlabel('Start Year')\n",
    "plt.ylabel('Gross Income')\n",
    "plt.legend()\n",
    "plt.grid(True)\n",
    "plt.tight_layout()\n",
    "plt.show()\n"
   ]
  },
  {
   "attachments": {},
   "cell_type": "markdown",
   "metadata": {},
   "source": [
    "We notice a trend: it is common for movies to achieve higher foreign gross income compared to their domestic gross income upon release.<br>\n",
    "\n",
    "In 2016, movies experienced their peak foreign gross and domestic gross income. However, these incomes significantly declined for movies released in 2019. This decline could be attributed to the increasing popularity of streaming services, with many people opting to use platforms like Netflix instead of going to theaters.<br>\n",
    "\n",
    "For example, Netflix witnessed remarkable global growth from 2019 onwards. In just the first three months of that year, the streaming video company added an impressive 9.6 million paid subscribers."
   ]
  },
  {
   "attachments": {},
   "cell_type": "markdown",
   "metadata": {},
   "source": [
    "## Conclusions and recommendations"
   ]
  },
  {
   "attachments": {},
   "cell_type": "markdown",
   "metadata": {},
   "source": [
    "\n",
    "In closing, this analysis offers valuable insights for Microsoft's endeavor to establish a new movie studio. I observed that while genres like Comedy, Documentary, and Fantasy boast high average ratings, it's the genres of Sci-Fi, Adventure, Animation, and Action that demonstrate the greatest income-generating potential. Additionally, the decline in theatrical gross income, potentially influenced by the rise of streaming services like Netflix, underscores the importance of adapting to evolving industry trends. As we move forward, we recommend a strategy that balances audience satisfaction with commercial success. This entails diversifying the genre portfolio to include lucrative genres while prioritizing quality content creation. Furthermore, leveraging strategic partnerships with streaming platforms and remaining adaptable to changing consumer preferences will be key in maximizing revenue potential and establishing a strong foothold in the dynamic entertainment landscape. With these insights in mind, Microsoft is poised to embark on an exciting journey in the world of filmmaking, capturing the hearts and minds of audiences worldwide.\n",
    "\n",
    "Recommendations Microsoft should consider:\n",
    "-Diversify Genre Portfolio: While high ratings are important for audience satisfaction, prioritize genres such as Sci-Fi, Adventure, Animation, and Action that have proven to be lucrative in terms of income generation.\n",
    "-Leverage Streaming Platforms: Recognize the growing trend of streaming services and consider strategic partnerships or distribution deals with platforms like Netflix to reach a wider audience and maximize revenue potential.\n",
    "-Focus on Quality Content: While considering commercial success, prioritize creating high-quality content that resonates with the target audience, as reflected in genres with high average ratings like Comedy and Fantasy.\n",
    "-Adapt to Changing Trends: Stay agile and adaptable to evolving consumer preferences and industry trends, including exploring opportunities in streaming, digital distribution, and innovative marketing strategies."
   ]
  }
 ],
 "metadata": {
  "kernelspec": {
   "display_name": "Python 3 (ipykernel)",
   "language": "python",
   "name": "python3"
  },
  "language_info": {
   "codemirror_mode": {
    "name": "ipython",
    "version": 3
   },
   "file_extension": ".py",
   "mimetype": "text/x-python",
   "name": "python",
   "nbconvert_exporter": "python",
   "pygments_lexer": "ipython3",
   "version": "3.11.7"
  }
 },
 "nbformat": 4,
 "nbformat_minor": 4
}
